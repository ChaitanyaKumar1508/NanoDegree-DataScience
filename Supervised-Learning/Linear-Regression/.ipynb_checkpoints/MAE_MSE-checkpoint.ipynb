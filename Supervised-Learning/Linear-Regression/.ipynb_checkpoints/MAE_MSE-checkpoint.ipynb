{
 "cells": [
  {
   "cell_type": "code",
   "execution_count": 20,
   "metadata": {},
   "outputs": [],
   "source": [
    "def calY(x):\n",
    "    y_new = [(1.2*i + 2) for i in x]\n",
    "    return y_new"
   ]
  },
  {
   "cell_type": "code",
   "execution_count": 24,
   "metadata": {},
   "outputs": [
    {
     "name": "stdout",
     "output_type": "stream",
     "text": [
      "[4.4, 8.0, -2.8, -6.4, 11.6]\n"
     ]
    }
   ],
   "source": [
    "y = [-2,6,-4,1,14]\n",
    "y_new  = calY([2,5,-4,-7,8])\n",
    "print(y_new)"
   ]
  },
  {
   "cell_type": "code",
   "execution_count": 30,
   "metadata": {},
   "outputs": [
    {
     "name": "stdout",
     "output_type": "stream",
     "text": [
      "10.692000000000002\n"
     ]
    }
   ],
   "source": [
    "# MSE : Mean Squared Error\n",
    "\n",
    "sqrOfDiff = [(a-b)*(a-b) for a, b in zip(y, y_new)]\n",
    "mse = sum(sqrOfDiff)/(len(sqrOfDiff)*2)\n",
    "print(mse)"
   ]
  },
  {
   "cell_type": "code",
   "execution_count": 33,
   "metadata": {},
   "outputs": [
    {
     "name": "stdout",
     "output_type": "stream",
     "text": [
      "3.88\n"
     ]
    }
   ],
   "source": [
    "# MAE : Mean Absolute Error\n",
    "\n",
    "diff = [(a-b) for a, b in zip(y, y_new)]\n",
    "absDiff = [abs(i) for i in diff]\n",
    "\n",
    "ase = sum(absDiff)/len(absDiff)\n",
    "print(ase)"
   ]
  },
  {
   "cell_type": "code",
   "execution_count": null,
   "metadata": {},
   "outputs": [],
   "source": []
  }
 ],
 "metadata": {
  "kernelspec": {
   "display_name": "Python 3",
   "language": "python",
   "name": "python3"
  },
  "language_info": {
   "codemirror_mode": {
    "name": "ipython",
    "version": 3
   },
   "file_extension": ".py",
   "mimetype": "text/x-python",
   "name": "python",
   "nbconvert_exporter": "python",
   "pygments_lexer": "ipython3",
   "version": "3.6.6"
  }
 },
 "nbformat": 4,
 "nbformat_minor": 2
}
