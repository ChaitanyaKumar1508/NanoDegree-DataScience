{
 "cells": [
  {
   "cell_type": "code",
   "execution_count": 23,
   "metadata": {},
   "outputs": [],
   "source": [
    "# On initializing, counters are accessed exactly like dictionaries. \n",
    "# It does not raise the KeyValue error (if key is not present) instead the value’s count is shown as 0."
   ]
  },
  {
   "cell_type": "code",
   "execution_count": 24,
   "metadata": {},
   "outputs": [
    {
     "name": "stdout",
     "output_type": "stream",
     "text": [
      "Counter({'India': 3, 'WI': 2, 'Australia': 1})\n",
      "India 3\n",
      "WI 2\n",
      "Australia 1\n",
      "SA 0\n"
     ]
    }
   ],
   "source": [
    "# Python program to demonstrate accessing of Counter elements \n",
    "from collections import Counter \n",
    "  \n",
    "# Create a list \n",
    "z = ['India', 'WI', 'India', 'Australia', 'India', 'WI'] \n",
    "country_count = Counter(z) \n",
    "print(country_count) \n",
    "  \n",
    "countries = ['India','WI','Australia','SA'] \n",
    "  \n",
    "# Here SA is not in country_count  \n",
    "# so count of SA will be zero \n",
    "for country in countries: \n",
    "    print (country, country_count[country]) "
   ]
  },
  {
   "cell_type": "code",
   "execution_count": null,
   "metadata": {},
   "outputs": [],
   "source": []
  },
  {
   "cell_type": "code",
   "execution_count": 25,
   "metadata": {},
   "outputs": [],
   "source": [
    "# The elements() method returns an iterator that produces all of the items known to the Counter.\n",
    "# Elements with count <= 0 are not included."
   ]
  },
  {
   "cell_type": "code",
   "execution_count": 26,
   "metadata": {},
   "outputs": [
    {
     "name": "stdout",
     "output_type": "stream",
     "text": [
      "Counter({'b': 5, 'c': 3, 'a': 2, 'd': 0})\n",
      "['a', 'a', 'b', 'b', 'b', 'b', 'b', 'c', 'c', 'c']\n"
     ]
    }
   ],
   "source": [
    "# Python example to demonstrate elements() on Counter (gives back list) \n",
    "from collections import Counter \n",
    "  \n",
    "coun = Counter(a=2, b=5, c=3, d=0) \n",
    "print(coun) \n",
    "  \n",
    "print(list(coun.elements())) "
   ]
  },
  {
   "cell_type": "code",
   "execution_count": null,
   "metadata": {},
   "outputs": [],
   "source": []
  },
  {
   "cell_type": "code",
   "execution_count": 27,
   "metadata": {},
   "outputs": [],
   "source": [
    "# most_common() is used to produce a sequence of the n most frequently encountered input values and their respective counts.\n"
   ]
  },
  {
   "cell_type": "code",
   "execution_count": 28,
   "metadata": {},
   "outputs": [
    {
     "name": "stdout",
     "output_type": "stream",
     "text": [
      "d: 420\n",
      "f: 319\n",
      "c: 32\n",
      "b: 20\n"
     ]
    }
   ],
   "source": [
    "# Python example to demonstrate most_common() elements on Counter \n",
    "from collections import Counter \n",
    "  \n",
    "coun = Counter(a=11, b=20, c=32, d=420, e=1, f=319) \n",
    "  \n",
    "# This prints 4 most frequent characters \n",
    "for letter, count in coun.most_common(4): \n",
    "    print('%s: %d' % (letter, count)) "
   ]
  },
  {
   "cell_type": "code",
   "execution_count": null,
   "metadata": {},
   "outputs": [],
   "source": []
  }
 ],
 "metadata": {
  "kernelspec": {
   "display_name": "Python 3",
   "language": "python",
   "name": "python3"
  },
  "language_info": {
   "codemirror_mode": {
    "name": "ipython",
    "version": 3
   },
   "file_extension": ".py",
   "mimetype": "text/x-python",
   "name": "python",
   "nbconvert_exporter": "python",
   "pygments_lexer": "ipython3",
   "version": "3.6.6"
  }
 },
 "nbformat": 4,
 "nbformat_minor": 2
}
